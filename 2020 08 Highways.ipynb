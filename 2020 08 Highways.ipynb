{
 "cells": [
  {
   "cell_type": "markdown",
   "metadata": {},
   "source": [
    "# Bring in data"
   ]
  },
  {
   "cell_type": "code",
   "execution_count": 2,
   "metadata": {},
   "outputs": [],
   "source": [
    "import pandas as pd\n",
    "import numpy as np\n",
    "import dabl\n",
    "import datetime"
   ]
  },
  {
   "cell_type": "code",
   "execution_count": 64,
   "metadata": {},
   "outputs": [],
   "source": [
    "%matplotlib inline"
   ]
  },
  {
   "cell_type": "code",
   "execution_count": 3,
   "metadata": {},
   "outputs": [
    {
     "name": "stderr",
     "output_type": "stream",
     "text": [
      "/Users/lawrence/DABL_Env/lib/python3.7/site-packages/IPython/core/interactiveshell.py:3072: DtypeWarning: Columns (4) have mixed types.Specify dtype option on import or set low_memory=False.\n",
      "  interactivity=interactivity, compiler=compiler, result=result)\n"
     ]
    }
   ],
   "source": [
    "Highways_schedule1=pd.read_csv('/Users/Lawrence/P6Activities.csv', encoding= 'unicode_escape')"
   ]
  },
  {
   "cell_type": "code",
   "execution_count": 209,
   "metadata": {},
   "outputs": [
    {
     "data": {
      "text/html": [
       "<div>\n",
       "<style scoped>\n",
       "    .dataframe tbody tr th:only-of-type {\n",
       "        vertical-align: middle;\n",
       "    }\n",
       "\n",
       "    .dataframe tbody tr th {\n",
       "        vertical-align: top;\n",
       "    }\n",
       "\n",
       "    .dataframe thead th {\n",
       "        text-align: right;\n",
       "    }\n",
       "</style>\n",
       "<table border=\"1\" class=\"dataframe\">\n",
       "  <thead>\n",
       "    <tr style=\"text-align: right;\">\n",
       "      <th></th>\n",
       "      <th>DataDate</th>\n",
       "      <th>ProjectID</th>\n",
       "      <th>ActivityID</th>\n",
       "      <th>LocationCode</th>\n",
       "      <th>ActivityCode</th>\n",
       "      <th>ActualFinishDate</th>\n",
       "      <th>FreeFloat</th>\n",
       "      <th>Name</th>\n",
       "      <th>BaselineFinishDate</th>\n",
       "      <th>FinishDateVariance</th>\n",
       "      <th>ObjectId</th>\n",
       "      <th>PercentComplete</th>\n",
       "      <th>ProjectObjectId</th>\n",
       "      <th>Status</th>\n",
       "      <th>TotalFloat</th>\n",
       "      <th>EarlyFinishDate</th>\n",
       "      <th>LateFinishDate</th>\n",
       "      <th>Type</th>\n",
       "      <th>RemainingEarlyFinishDate</th>\n",
       "      <th>ExtractDate</th>\n",
       "    </tr>\n",
       "  </thead>\n",
       "  <tbody>\n",
       "    <tr>\n",
       "      <th>0</th>\n",
       "      <td>14/05/2016</td>\n",
       "      <td>A14-S1-Current-Reporting</td>\n",
       "      <td>1ABDI-10000</td>\n",
       "      <td>NaN</td>\n",
       "      <td>NaN</td>\n",
       "      <td>NaN</td>\n",
       "      <td>0.0</td>\n",
       "      <td>Alconbury Brook diversion: EA approval obtained</td>\n",
       "      <td>28/10/2016</td>\n",
       "      <td>0.0</td>\n",
       "      <td>51725314</td>\n",
       "      <td>0.0</td>\n",
       "      <td>107430</td>\n",
       "      <td>Not Started</td>\n",
       "      <td>448.0</td>\n",
       "      <td>28/10/2016</td>\n",
       "      <td>30/01/2017</td>\n",
       "      <td>Finish Milestone</td>\n",
       "      <td>28/10/2016</td>\n",
       "      <td>07/09/2016</td>\n",
       "    </tr>\n",
       "    <tr>\n",
       "      <th>1</th>\n",
       "      <td>14/05/2016</td>\n",
       "      <td>A14-S1-Current-Reporting</td>\n",
       "      <td>1ABDI-10010</td>\n",
       "      <td>CUL1</td>\n",
       "      <td>NaN</td>\n",
       "      <td>NaN</td>\n",
       "      <td>0.0</td>\n",
       "      <td>Alconbury Brook diversion: build temporary cro...</td>\n",
       "      <td>11/11/2016</td>\n",
       "      <td>0.0</td>\n",
       "      <td>51725315</td>\n",
       "      <td>0.0</td>\n",
       "      <td>107430</td>\n",
       "      <td>Not Started</td>\n",
       "      <td>448.0</td>\n",
       "      <td>11/11/2016</td>\n",
       "      <td>13/02/2017</td>\n",
       "      <td>Task Dependent</td>\n",
       "      <td>11/11/2016</td>\n",
       "      <td>07/09/2016</td>\n",
       "    </tr>\n",
       "    <tr>\n",
       "      <th>2</th>\n",
       "      <td>14/05/2016</td>\n",
       "      <td>A14-S1-Current-Reporting</td>\n",
       "      <td>1ABDI-10020</td>\n",
       "      <td>CUL1</td>\n",
       "      <td>NaN</td>\n",
       "      <td>NaN</td>\n",
       "      <td>0.0</td>\n",
       "      <td>Alconbury Brook diversion: construct crane pla...</td>\n",
       "      <td>16/11/2016</td>\n",
       "      <td>0.0</td>\n",
       "      <td>51725316</td>\n",
       "      <td>0.0</td>\n",
       "      <td>107430</td>\n",
       "      <td>Not Started</td>\n",
       "      <td>448.0</td>\n",
       "      <td>16/11/2016</td>\n",
       "      <td>16/02/2017</td>\n",
       "      <td>Task Dependent</td>\n",
       "      <td>16/11/2016</td>\n",
       "      <td>07/09/2016</td>\n",
       "    </tr>\n",
       "    <tr>\n",
       "      <th>3</th>\n",
       "      <td>14/05/2016</td>\n",
       "      <td>A14-S1-Current-Reporting</td>\n",
       "      <td>1ABDI-10030</td>\n",
       "      <td>SEC1</td>\n",
       "      <td>NaN</td>\n",
       "      <td>NaN</td>\n",
       "      <td>0.0</td>\n",
       "      <td>Alconbury Brook diversion: remove Bailey bridge</td>\n",
       "      <td>23/11/2016</td>\n",
       "      <td>0.0</td>\n",
       "      <td>51725311</td>\n",
       "      <td>0.0</td>\n",
       "      <td>107430</td>\n",
       "      <td>Not Started</td>\n",
       "      <td>448.0</td>\n",
       "      <td>23/11/2016</td>\n",
       "      <td>23/02/2017</td>\n",
       "      <td>Task Dependent</td>\n",
       "      <td>23/11/2016</td>\n",
       "      <td>07/09/2016</td>\n",
       "    </tr>\n",
       "    <tr>\n",
       "      <th>4</th>\n",
       "      <td>14/05/2016</td>\n",
       "      <td>A14-S1-Current-Reporting</td>\n",
       "      <td>1ABDI-10040</td>\n",
       "      <td>SEC1</td>\n",
       "      <td>NaN</td>\n",
       "      <td>NaN</td>\n",
       "      <td>0.0</td>\n",
       "      <td>Alconbury Brook diversion: excavate new alignment</td>\n",
       "      <td>05/12/2016</td>\n",
       "      <td>0.0</td>\n",
       "      <td>51725310</td>\n",
       "      <td>0.0</td>\n",
       "      <td>107430</td>\n",
       "      <td>Not Started</td>\n",
       "      <td>448.0</td>\n",
       "      <td>05/12/2016</td>\n",
       "      <td>07/03/2017</td>\n",
       "      <td>Task Dependent</td>\n",
       "      <td>05/12/2016</td>\n",
       "      <td>07/09/2016</td>\n",
       "    </tr>\n",
       "    <tr>\n",
       "      <th>...</th>\n",
       "      <td>...</td>\n",
       "      <td>...</td>\n",
       "      <td>...</td>\n",
       "      <td>...</td>\n",
       "      <td>...</td>\n",
       "      <td>...</td>\n",
       "      <td>...</td>\n",
       "      <td>...</td>\n",
       "      <td>...</td>\n",
       "      <td>...</td>\n",
       "      <td>...</td>\n",
       "      <td>...</td>\n",
       "      <td>...</td>\n",
       "      <td>...</td>\n",
       "      <td>...</td>\n",
       "      <td>...</td>\n",
       "      <td>...</td>\n",
       "      <td>...</td>\n",
       "      <td>...</td>\n",
       "      <td>...</td>\n",
       "    </tr>\n",
       "    <tr>\n",
       "      <th>419548</th>\n",
       "      <td>30/09/2019</td>\n",
       "      <td>A14-S6-Current-Reporting</td>\n",
       "      <td>6VM-1800</td>\n",
       "      <td>SEC6</td>\n",
       "      <td>2702</td>\n",
       "      <td>01/01/1900</td>\n",
       "      <td>3256.0</td>\n",
       "      <td>VM69 - Site Works</td>\n",
       "      <td>31/01/2020</td>\n",
       "      <td>0.0</td>\n",
       "      <td>109461962</td>\n",
       "      <td>0.0</td>\n",
       "      <td>142818</td>\n",
       "      <td>Not Started</td>\n",
       "      <td>3256.0</td>\n",
       "      <td>31/01/2020</td>\n",
       "      <td>21/09/2021</td>\n",
       "      <td>Task Dependent</td>\n",
       "      <td>31/01/2020</td>\n",
       "      <td>04/10/2019</td>\n",
       "    </tr>\n",
       "    <tr>\n",
       "      <th>419549</th>\n",
       "      <td>30/09/2019</td>\n",
       "      <td>A14-S6-Current-Reporting</td>\n",
       "      <td>6VM-1810</td>\n",
       "      <td>SEC6</td>\n",
       "      <td>2702</td>\n",
       "      <td>26/04/2019</td>\n",
       "      <td>NaN</td>\n",
       "      <td>VM63aWest - Site Works</td>\n",
       "      <td>29/05/2019</td>\n",
       "      <td>168.0</td>\n",
       "      <td>109461116</td>\n",
       "      <td>1.0</td>\n",
       "      <td>142818</td>\n",
       "      <td>Completed</td>\n",
       "      <td>NaN</td>\n",
       "      <td>30/09/2019</td>\n",
       "      <td>26/03/2021</td>\n",
       "      <td>Task Dependent</td>\n",
       "      <td>01/01/1900</td>\n",
       "      <td>04/10/2019</td>\n",
       "    </tr>\n",
       "    <tr>\n",
       "      <th>419550</th>\n",
       "      <td>30/09/2019</td>\n",
       "      <td>A14-S6-Current-Reporting</td>\n",
       "      <td>6VM-1820</td>\n",
       "      <td>SEC6</td>\n",
       "      <td>2702</td>\n",
       "      <td>01/01/1900</td>\n",
       "      <td>528.0</td>\n",
       "      <td>VM63a - Site Works</td>\n",
       "      <td>09/01/2020</td>\n",
       "      <td>0.0</td>\n",
       "      <td>109461115</td>\n",
       "      <td>0.0</td>\n",
       "      <td>142818</td>\n",
       "      <td>Not Started</td>\n",
       "      <td>3320.0</td>\n",
       "      <td>09/01/2020</td>\n",
       "      <td>09/09/2021</td>\n",
       "      <td>Task Dependent</td>\n",
       "      <td>09/01/2020</td>\n",
       "      <td>04/10/2019</td>\n",
       "    </tr>\n",
       "    <tr>\n",
       "      <th>419551</th>\n",
       "      <td>30/09/2019</td>\n",
       "      <td>A14-S6-Current-Reporting</td>\n",
       "      <td>6VM-1870</td>\n",
       "      <td>SEC6</td>\n",
       "      <td>2702</td>\n",
       "      <td>17/05/2019</td>\n",
       "      <td>NaN</td>\n",
       "      <td>VM61a - Site Works (3 wks after VM62a - Strate...</td>\n",
       "      <td>25/06/2019</td>\n",
       "      <td>208.0</td>\n",
       "      <td>109461114</td>\n",
       "      <td>1.0</td>\n",
       "      <td>142818</td>\n",
       "      <td>Completed</td>\n",
       "      <td>NaN</td>\n",
       "      <td>30/09/2019</td>\n",
       "      <td>02/07/2021</td>\n",
       "      <td>Task Dependent</td>\n",
       "      <td>01/01/1900</td>\n",
       "      <td>04/10/2019</td>\n",
       "    </tr>\n",
       "    <tr>\n",
       "      <th>419552</th>\n",
       "      <td>30/09/2019</td>\n",
       "      <td>A14-S6-Current-Reporting</td>\n",
       "      <td>6VM-1880</td>\n",
       "      <td>SEC6</td>\n",
       "      <td>2702</td>\n",
       "      <td>13/05/2019</td>\n",
       "      <td>NaN</td>\n",
       "      <td>VM62a - Site Works</td>\n",
       "      <td>13/05/2019</td>\n",
       "      <td>0.0</td>\n",
       "      <td>109461113</td>\n",
       "      <td>1.0</td>\n",
       "      <td>142818</td>\n",
       "      <td>Completed</td>\n",
       "      <td>NaN</td>\n",
       "      <td>30/09/2019</td>\n",
       "      <td>26/04/2021</td>\n",
       "      <td>Task Dependent</td>\n",
       "      <td>01/01/1900</td>\n",
       "      <td>04/10/2019</td>\n",
       "    </tr>\n",
       "  </tbody>\n",
       "</table>\n",
       "<p>419553 rows × 20 columns</p>\n",
       "</div>"
      ],
      "text/plain": [
       "          DataDate                 ProjectID   ActivityID LocationCode  \\\n",
       "0       14/05/2016  A14-S1-Current-Reporting  1ABDI-10000          NaN   \n",
       "1       14/05/2016  A14-S1-Current-Reporting  1ABDI-10010         CUL1   \n",
       "2       14/05/2016  A14-S1-Current-Reporting  1ABDI-10020         CUL1   \n",
       "3       14/05/2016  A14-S1-Current-Reporting  1ABDI-10030         SEC1   \n",
       "4       14/05/2016  A14-S1-Current-Reporting  1ABDI-10040         SEC1   \n",
       "...            ...                       ...          ...          ...   \n",
       "419548  30/09/2019  A14-S6-Current-Reporting     6VM-1800         SEC6   \n",
       "419549  30/09/2019  A14-S6-Current-Reporting     6VM-1810         SEC6   \n",
       "419550  30/09/2019  A14-S6-Current-Reporting     6VM-1820         SEC6   \n",
       "419551  30/09/2019  A14-S6-Current-Reporting     6VM-1870         SEC6   \n",
       "419552  30/09/2019  A14-S6-Current-Reporting     6VM-1880         SEC6   \n",
       "\n",
       "       ActivityCode ActualFinishDate  FreeFloat  \\\n",
       "0               NaN              NaN        0.0   \n",
       "1               NaN              NaN        0.0   \n",
       "2               NaN              NaN        0.0   \n",
       "3               NaN              NaN        0.0   \n",
       "4               NaN              NaN        0.0   \n",
       "...             ...              ...        ...   \n",
       "419548         2702       01/01/1900     3256.0   \n",
       "419549         2702       26/04/2019        NaN   \n",
       "419550         2702       01/01/1900      528.0   \n",
       "419551         2702       17/05/2019        NaN   \n",
       "419552         2702       13/05/2019        NaN   \n",
       "\n",
       "                                                     Name BaselineFinishDate  \\\n",
       "0         Alconbury Brook diversion: EA approval obtained         28/10/2016   \n",
       "1       Alconbury Brook diversion: build temporary cro...         11/11/2016   \n",
       "2       Alconbury Brook diversion: construct crane pla...         16/11/2016   \n",
       "3         Alconbury Brook diversion: remove Bailey bridge         23/11/2016   \n",
       "4       Alconbury Brook diversion: excavate new alignment         05/12/2016   \n",
       "...                                                   ...                ...   \n",
       "419548                                  VM69 - Site Works         31/01/2020   \n",
       "419549                             VM63aWest - Site Works         29/05/2019   \n",
       "419550                                 VM63a - Site Works         09/01/2020   \n",
       "419551  VM61a - Site Works (3 wks after VM62a - Strate...         25/06/2019   \n",
       "419552                                 VM62a - Site Works         13/05/2019   \n",
       "\n",
       "        FinishDateVariance   ObjectId  PercentComplete  ProjectObjectId  \\\n",
       "0                      0.0   51725314              0.0           107430   \n",
       "1                      0.0   51725315              0.0           107430   \n",
       "2                      0.0   51725316              0.0           107430   \n",
       "3                      0.0   51725311              0.0           107430   \n",
       "4                      0.0   51725310              0.0           107430   \n",
       "...                    ...        ...              ...              ...   \n",
       "419548                 0.0  109461962              0.0           142818   \n",
       "419549               168.0  109461116              1.0           142818   \n",
       "419550                 0.0  109461115              0.0           142818   \n",
       "419551               208.0  109461114              1.0           142818   \n",
       "419552                 0.0  109461113              1.0           142818   \n",
       "\n",
       "             Status  TotalFloat EarlyFinishDate LateFinishDate  \\\n",
       "0       Not Started       448.0      28/10/2016     30/01/2017   \n",
       "1       Not Started       448.0      11/11/2016     13/02/2017   \n",
       "2       Not Started       448.0      16/11/2016     16/02/2017   \n",
       "3       Not Started       448.0      23/11/2016     23/02/2017   \n",
       "4       Not Started       448.0      05/12/2016     07/03/2017   \n",
       "...             ...         ...             ...            ...   \n",
       "419548  Not Started      3256.0      31/01/2020     21/09/2021   \n",
       "419549    Completed         NaN      30/09/2019     26/03/2021   \n",
       "419550  Not Started      3320.0      09/01/2020     09/09/2021   \n",
       "419551    Completed         NaN      30/09/2019     02/07/2021   \n",
       "419552    Completed         NaN      30/09/2019     26/04/2021   \n",
       "\n",
       "                    Type RemainingEarlyFinishDate ExtractDate  \n",
       "0       Finish Milestone               28/10/2016  07/09/2016  \n",
       "1         Task Dependent               11/11/2016  07/09/2016  \n",
       "2         Task Dependent               16/11/2016  07/09/2016  \n",
       "3         Task Dependent               23/11/2016  07/09/2016  \n",
       "4         Task Dependent               05/12/2016  07/09/2016  \n",
       "...                  ...                      ...         ...  \n",
       "419548    Task Dependent               31/01/2020  04/10/2019  \n",
       "419549    Task Dependent               01/01/1900  04/10/2019  \n",
       "419550    Task Dependent               09/01/2020  04/10/2019  \n",
       "419551    Task Dependent               01/01/1900  04/10/2019  \n",
       "419552    Task Dependent               01/01/1900  04/10/2019  \n",
       "\n",
       "[419553 rows x 20 columns]"
      ]
     },
     "execution_count": 209,
     "metadata": {},
     "output_type": "execute_result"
    }
   ],
   "source": [
    "Highways_schedule1"
   ]
  },
  {
   "cell_type": "code",
   "execution_count": 152,
   "metadata": {},
   "outputs": [
    {
     "name": "stderr",
     "output_type": "stream",
     "text": [
      "/Users/lawrence/DABL_Env/lib/python3.7/site-packages/IPython/core/interactiveshell.py:3072: DtypeWarning: Columns (4) have mixed types.Specify dtype option on import or set low_memory=False.\n",
      "  interactivity=interactivity, compiler=compiler, result=result)\n"
     ]
    }
   ],
   "source": [
    "Highways_schedule = pd.read_csv('/Users/Lawrence/P6Activities.csv', encoding= 'unicode_escape')"
   ]
  },
  {
   "cell_type": "code",
   "execution_count": null,
   "metadata": {},
   "outputs": [],
   "source": [
    "# Highways_schedule.dtypes if needed"
   ]
  },
  {
   "cell_type": "code",
   "execution_count": 153,
   "metadata": {},
   "outputs": [],
   "source": [
    "Highways_schedule['ExtractDate'] = pd.to_datetime(Highways_schedule['ExtractDate'])\n",
    "Highways_schedule['DataDate'] = pd.to_datetime(Highways_schedule['DataDate'])\n",
    "Highways_schedule['LocationCode'].astype('string')\n",
    "Highways_schedule['BaselineFinishDate'] = pd.to_datetime(Highways_schedule['BaselineFinishDate'])"
   ]
  },
  {
   "cell_type": "code",
   "execution_count": 154,
   "metadata": {},
   "outputs": [],
   "source": [
    "criteria = ((Highways_schedule['Status'] == 'Completed') | (Highways_schedule['Status'] == 'Not Started')) & (Highways_schedule['DataDate'] =='2019-09-30')"
   ]
  },
  {
   "cell_type": "code",
   "execution_count": 155,
   "metadata": {},
   "outputs": [],
   "source": [
    "Highways_schedule=Highways_schedule[criteria]"
   ]
  },
  {
   "cell_type": "code",
   "execution_count": 156,
   "metadata": {},
   "outputs": [],
   "source": [
    "Highways_schedule=Highways_schedule.drop(['DataDate','ActualFinishDate','FreeFloat','ObjectId','PercentComplete','ProjectObjectId','TotalFloat','EarlyFinishDate','LateFinishDate'],axis=1)"
   ]
  },
  {
   "cell_type": "code",
   "execution_count": 157,
   "metadata": {},
   "outputs": [],
   "source": [
    "Highways_schedule=Highways_schedule.drop(['RemainingEarlyFinishDate','ExtractDate'],axis=1)"
   ]
  },
  {
   "cell_type": "code",
   "execution_count": 158,
   "metadata": {},
   "outputs": [],
   "source": [
    "Highways_schedule['Reasonably_Delayed']=np.greater_equal(Highways_schedule['FinishDateVariance'], 5)"
   ]
  },
  {
   "cell_type": "code",
   "execution_count": 110,
   "metadata": {},
   "outputs": [
    {
     "data": {
      "text/html": [
       "<div>\n",
       "<style scoped>\n",
       "    .dataframe tbody tr th:only-of-type {\n",
       "        vertical-align: middle;\n",
       "    }\n",
       "\n",
       "    .dataframe tbody tr th {\n",
       "        vertical-align: top;\n",
       "    }\n",
       "\n",
       "    .dataframe thead th {\n",
       "        text-align: right;\n",
       "    }\n",
       "</style>\n",
       "<table border=\"1\" class=\"dataframe\">\n",
       "  <thead>\n",
       "    <tr style=\"text-align: right;\">\n",
       "      <th></th>\n",
       "      <th>ProjectID</th>\n",
       "      <th>ActivityID</th>\n",
       "      <th>LocationCode</th>\n",
       "      <th>ActivityCode</th>\n",
       "      <th>Name</th>\n",
       "      <th>BaselineFinishDate</th>\n",
       "      <th>FinishDateVariance</th>\n",
       "      <th>Status</th>\n",
       "      <th>Type</th>\n",
       "      <th>Reasonably_Delayed</th>\n",
       "    </tr>\n",
       "  </thead>\n",
       "  <tbody>\n",
       "    <tr>\n",
       "      <th>407526</th>\n",
       "      <td>A14-S1-Current-Reporting</td>\n",
       "      <td>1ABDI-10000</td>\n",
       "      <td>SEC1</td>\n",
       "      <td>3030</td>\n",
       "      <td>Alconbury Brook diversion: EA approval obtaine...</td>\n",
       "      <td>2017-07-21</td>\n",
       "      <td>240.0</td>\n",
       "      <td>Completed</td>\n",
       "      <td>Finish Milestone</td>\n",
       "      <td>True</td>\n",
       "    </tr>\n",
       "    <tr>\n",
       "      <th>407527</th>\n",
       "      <td>A14-S1-Current-Reporting</td>\n",
       "      <td>1ABDI-10010</td>\n",
       "      <td>PLM1</td>\n",
       "      <td>153</td>\n",
       "      <td>Alconbury Brook diversion: cast temporary brid...</td>\n",
       "      <td>2017-03-03</td>\n",
       "      <td>-56.0</td>\n",
       "      <td>Completed</td>\n",
       "      <td>Task Dependent</td>\n",
       "      <td>False</td>\n",
       "    </tr>\n",
       "    <tr>\n",
       "      <th>407528</th>\n",
       "      <td>A14-S1-Current-Reporting</td>\n",
       "      <td>1ABDI-10020</td>\n",
       "      <td>PLM1</td>\n",
       "      <td>153a</td>\n",
       "      <td>Alconbury Brook diversion: construct crane pla...</td>\n",
       "      <td>2017-03-03</td>\n",
       "      <td>8.0</td>\n",
       "      <td>Completed</td>\n",
       "      <td>Task Dependent</td>\n",
       "      <td>True</td>\n",
       "    </tr>\n",
       "    <tr>\n",
       "      <th>407529</th>\n",
       "      <td>A14-S1-Current-Reporting</td>\n",
       "      <td>1ABDI-10030</td>\n",
       "      <td>SEC1</td>\n",
       "      <td>202</td>\n",
       "      <td>Alconbury Brook diversion: remove Bailey bridg...</td>\n",
       "      <td>2017-07-26</td>\n",
       "      <td>8.0</td>\n",
       "      <td>Completed</td>\n",
       "      <td>Task Dependent</td>\n",
       "      <td>True</td>\n",
       "    </tr>\n",
       "    <tr>\n",
       "      <th>407530</th>\n",
       "      <td>A14-S1-Current-Reporting</td>\n",
       "      <td>1ABDI-10040</td>\n",
       "      <td>SEC1</td>\n",
       "      <td>602</td>\n",
       "      <td>Alconbury Brook diversion: excavate new alignment</td>\n",
       "      <td>2017-09-22</td>\n",
       "      <td>-120.0</td>\n",
       "      <td>Completed</td>\n",
       "      <td>Task Dependent</td>\n",
       "      <td>False</td>\n",
       "    </tr>\n",
       "  </tbody>\n",
       "</table>\n",
       "</div>"
      ],
      "text/plain": [
       "                       ProjectID   ActivityID LocationCode ActivityCode  \\\n",
       "407526  A14-S1-Current-Reporting  1ABDI-10000         SEC1         3030   \n",
       "407527  A14-S1-Current-Reporting  1ABDI-10010         PLM1          153   \n",
       "407528  A14-S1-Current-Reporting  1ABDI-10020         PLM1         153a   \n",
       "407529  A14-S1-Current-Reporting  1ABDI-10030         SEC1          202   \n",
       "407530  A14-S1-Current-Reporting  1ABDI-10040         SEC1          602   \n",
       "\n",
       "                                                     Name BaselineFinishDate  \\\n",
       "407526  Alconbury Brook diversion: EA approval obtaine...         2017-07-21   \n",
       "407527  Alconbury Brook diversion: cast temporary brid...         2017-03-03   \n",
       "407528  Alconbury Brook diversion: construct crane pla...         2017-03-03   \n",
       "407529  Alconbury Brook diversion: remove Bailey bridg...         2017-07-26   \n",
       "407530  Alconbury Brook diversion: excavate new alignment         2017-09-22   \n",
       "\n",
       "        FinishDateVariance     Status              Type  Reasonably_Delayed  \n",
       "407526               240.0  Completed  Finish Milestone                True  \n",
       "407527               -56.0  Completed    Task Dependent               False  \n",
       "407528                 8.0  Completed    Task Dependent                True  \n",
       "407529                 8.0  Completed    Task Dependent                True  \n",
       "407530              -120.0  Completed    Task Dependent               False  "
      ]
     },
     "execution_count": 110,
     "metadata": {},
     "output_type": "execute_result"
    }
   ],
   "source": [
    "Highways_schedule.head()"
   ]
  },
  {
   "cell_type": "code",
   "execution_count": 151,
   "metadata": {},
   "outputs": [],
   "source": []
  },
  {
   "cell_type": "code",
   "execution_count": 159,
   "metadata": {},
   "outputs": [
    {
     "name": "stderr",
     "output_type": "stream",
     "text": [
      "/Users/lawrence/DABL_Env/lib/python3.7/site-packages/dabl/preprocessing.py:318: UserWarning: Discarding near-constant features: ['ActivityCode_153a', 'ActivityCode_153c', 'ActivityCode_153d', 'ActivityCode_153e', 'ActivityCode_153f', 'ActivityCode_PRLM']\n",
      "  near_constant.index[near_constant].tolist()))\n"
     ]
    }
   ],
   "source": [
    "Clean_Highways_schedule= dabl.clean(Highways_schedule, verbose=0) # this uses DABL to tidy the dataset"
   ]
  },
  {
   "cell_type": "code",
   "execution_count": null,
   "metadata": {},
   "outputs": [],
   "source": [
    "# print(dabl.detect_types(Clean_Highways_schedule))"
   ]
  },
  {
   "cell_type": "markdown",
   "metadata": {},
   "source": [
    "# Prepare training dataset"
   ]
  },
  {
   "cell_type": "code",
   "execution_count": 160,
   "metadata": {},
   "outputs": [],
   "source": [
    "#ignore 'in progress' tasks\n",
    "Clean_Highways_schedule.set_index(\"Status\", inplace=True)\n",
    "Training_set=Clean_Highways_schedule.loc['Completed']\n",
    "Run_time_set=Clean_Highways_schedule.loc['Not Started']"
   ]
  },
  {
   "cell_type": "code",
   "execution_count": 161,
   "metadata": {},
   "outputs": [],
   "source": [
    "Training_set.reset_index(inplace=True)\n",
    "Run_time_set.reset_index(inplace=True)"
   ]
  },
  {
   "cell_type": "markdown",
   "metadata": {},
   "source": [
    "# Exploratory Data analyis\n",
    "- \"quick insight in to what are the important features, their interactions, and how hard the problem might be.\" \n",
    "- \"allows a good assessment of whether there is any data leakage through spurious representations of the target in the data.\"\n",
    "- as explained [here](https://amueller.github.io/dabl/dev/user_guide.html)"
   ]
  },
  {
   "cell_type": "markdown",
   "metadata": {},
   "source": [
    "*Consider what to drop, based on what information we will have when we are making a prediction*\n",
    "we have to take care to exclude columns that either:\n",
    "- are a proxy for what we know about how late the task actually was\n",
    "- and/or to exclude columns that will not have meaningful data which we can ask  of the Run-time data set. \n",
    "\n",
    "We use DABL plot API in two ways below. \n",
    "- we say we are interested in what is Reasonably Delayed, which is a Yes/No categorical question\n",
    "- then we say we are interested in how long a task will take, which is a regression question"
   ]
  },
  {
   "cell_type": "code",
   "execution_count": 162,
   "metadata": {},
   "outputs": [
    {
     "name": "stderr",
     "output_type": "stream",
     "text": [
      "/Users/lawrence/DABL_Env/lib/python3.7/site-packages/dabl/plot/supervised.py:528: FutureWarning: The second positional argument of plot is a Series 'y'. If passing a column name, use a keyword.\n",
      "  FutureWarning)\n",
      "/Users/lawrence/DABL_Env/lib/python3.7/site-packages/dabl/preprocessing.py:318: UserWarning: Discarding near-constant features: ['Status', 'ActivityCode_153a', 'ActivityCode_153c', 'ActivityCode_153d', 'ActivityCode_153e', 'ActivityCode_153f', 'ActivityCode_PRLM']\n",
      "  near_constant.index[near_constant].tolist()))\n"
     ]
    },
    {
     "name": "stdout",
     "output_type": "stream",
     "text": [
      "Target looks like classification\n"
     ]
    },
    {
     "name": "stderr",
     "output_type": "stream",
     "text": [
      "/Users/lawrence/DABL_Env/lib/python3.7/site-packages/dabl/plot/utils.py:364: UserWarning: FixedFormatter should only be used together with FixedLocator\n",
      "  for t in ax.get_xticklabels()]\n",
      "/Users/lawrence/DABL_Env/lib/python3.7/site-packages/dabl/plot/utils.py:364: UserWarning: FixedFormatter should only be used together with FixedLocator\n",
      "  for t in ax.get_xticklabels()]\n",
      "/Users/lawrence/DABL_Env/lib/python3.7/site-packages/dabl/plot/utils.py:364: UserWarning: FixedFormatter should only be used together with FixedLocator\n",
      "  for t in ax.get_xticklabels()]\n"
     ]
    },
    {
     "data": {
      "image/png": "[encoded data removed]",
      "text/plain": [
       "<Figure size 432x288 with 1 Axes>"
      ]
     },
     "metadata": {
      "needs_background": "light"
     },
     "output_type": "display_data"
    },
    {
     "data": {
      "image/png": "[encoded data removed]",
      "text/plain": [
       "<Figure size 216x216 with 2 Axes>"
      ]
     },
     "metadata": {
      "needs_background": "light"
     },
     "output_type": "display_data"
    },
    {
     "data": {
      "image/png": "[encoded data removed]",
      "text/plain": [
       "<Figure size 864x360 with 3 Axes>"
      ]
     },
     "metadata": {
      "needs_background": "light"
     },
     "output_type": "display_data"
    }
   ],
   "source": [
    "dabl.plot(Training_set.drop(['FinishDateVariance'], axis=1),'Reasonably_Delayed')"
   ]
  },
  {
   "cell_type": "code",
   "execution_count": 163,
   "metadata": {},
   "outputs": [
    {
     "name": "stderr",
     "output_type": "stream",
     "text": [
      "/Users/lawrence/DABL_Env/lib/python3.7/site-packages/dabl/plot/supervised.py:528: FutureWarning: The second positional argument of plot is a Series 'y'. If passing a column name, use a keyword.\n",
      "  FutureWarning)\n",
      "/Users/lawrence/DABL_Env/lib/python3.7/site-packages/dabl/preprocessing.py:318: UserWarning: Discarding near-constant features: ['Status', 'ActivityCode_153a', 'ActivityCode_153c', 'ActivityCode_153d', 'ActivityCode_153e', 'ActivityCode_153f', 'ActivityCode_PRLM']\n",
      "  near_constant.index[near_constant].tolist()))\n"
     ]
    },
    {
     "name": "stdout",
     "output_type": "stream",
     "text": [
      "Target looks like regression\n"
     ]
    },
    {
     "name": "stderr",
     "output_type": "stream",
     "text": [
      "/Users/lawrence/DABL_Env/lib/python3.7/site-packages/dabl/plot/utils.py:364: UserWarning: FixedFormatter should only be used together with FixedLocator\n",
      "  for t in ax.get_xticklabels()]\n",
      "/Users/lawrence/DABL_Env/lib/python3.7/site-packages/dabl/plot/utils.py:364: UserWarning: FixedFormatter should only be used together with FixedLocator\n",
      "  for t in ax.get_xticklabels()]\n",
      "/Users/lawrence/DABL_Env/lib/python3.7/site-packages/dabl/plot/utils.py:364: UserWarning: FixedFormatter should only be used together with FixedLocator\n",
      "  for t in ax.get_xticklabels()]\n"
     ]
    },
    {
     "data": {
      "image/png": "[encoded data removed]",
      "text/plain": [
       "<Figure size 432x288 with 1 Axes>"
      ]
     },
     "metadata": {
      "needs_background": "light"
     },
     "output_type": "display_data"
    },
    {
     "data": {
      "image/png": "[encoded data removed]",
      "text/plain": [
       "<Figure size 288x216 with 1 Axes>"
      ]
     },
     "metadata": {
      "needs_background": "light"
     },
     "output_type": "display_data"
    },
    {
     "data": {
      "image/png": "[encoded data removed]",
      "text/plain": [
       "<Figure size 864x360 with 3 Axes>"
      ]
     },
     "metadata": {
      "needs_background": "light"
     },
     "output_type": "display_data"
    }
   ],
   "source": [
    "dabl.plot(Training_set.drop([\"Reasonably_Delayed\"],axis=1), 'FinishDateVariance')"
   ]
  },
  {
   "cell_type": "markdown",
   "metadata": {},
   "source": [
    "# Train a Classification model"
   ]
  },
  {
   "cell_type": "code",
   "execution_count": 164,
   "metadata": {},
   "outputs": [],
   "source": [
    "Highways_classification_model=dabl.SimpleClassifier (random_state=0)"
   ]
  },
  {
   "cell_type": "code",
   "execution_count": 165,
   "metadata": {},
   "outputs": [],
   "source": [
    "X=Training_set.drop(['FinishDateVariance','Reasonably_Delayed'], axis=1)"
   ]
  },
  {
   "cell_type": "code",
   "execution_count": 166,
   "metadata": {},
   "outputs": [],
   "source": [
    "y=Training_set[\"Reasonably_Delayed\"]"
   ]
  },
  {
   "cell_type": "code",
   "execution_count": 167,
   "metadata": {},
   "outputs": [
    {
     "name": "stderr",
     "output_type": "stream",
     "text": [
      "/Users/lawrence/DABL_Env/lib/python3.7/site-packages/dabl/preprocessing.py:318: UserWarning: Discarding near-constant features: ['Status', 'ActivityCode_153a', 'ActivityCode_153c', 'ActivityCode_153d', 'ActivityCode_153e', 'ActivityCode_153f', 'ActivityCode_PRLM']\n",
      "  near_constant.index[near_constant].tolist()))\n"
     ]
    },
    {
     "name": "stdout",
     "output_type": "stream",
     "text": [
      "Running DummyClassifier(strategy='prior')\n",
      "accuracy: 0.626 average_precision: 0.374 roc_auc: 0.500 recall_macro: 0.500 f1_macro: 0.385\n",
      "=== new best DummyClassifier(strategy='prior') (using recall_macro):\n",
      "accuracy: 0.626 average_precision: 0.374 roc_auc: 0.500 recall_macro: 0.500 f1_macro: 0.385\n",
      "\n",
      "Running GaussianNB()\n",
      "accuracy: 0.480 average_precision: 0.303 roc_auc: 0.622 recall_macro: 0.558 f1_macro: 0.463\n",
      "=== new best GaussianNB() (using recall_macro):\n",
      "accuracy: 0.480 average_precision: 0.303 roc_auc: 0.622 recall_macro: 0.558 f1_macro: 0.463\n",
      "\n",
      "Running MultinomialNB()\n",
      "accuracy: 0.637 average_precision: 0.298 roc_auc: 0.628 recall_macro: 0.562 f1_macro: 0.551\n",
      "=== new best MultinomialNB() (using recall_macro):\n",
      "accuracy: 0.637 average_precision: 0.298 roc_auc: 0.628 recall_macro: 0.562 f1_macro: 0.551\n",
      "\n",
      "Running DecisionTreeClassifier(class_weight='balanced', max_depth=1)\n",
      "accuracy: 0.644 average_precision: 0.359 roc_auc: 0.534 recall_macro: 0.534 f1_macro: 0.472\n",
      "Running DecisionTreeClassifier(class_weight='balanced', max_depth=5)\n",
      "accuracy: 0.520 average_precision: 0.336 roc_auc: 0.589 recall_macro: 0.557 f1_macro: 0.473\n",
      "Running DecisionTreeClassifier(class_weight='balanced', min_impurity_decrease=0.01)\n",
      "accuracy: 0.579 average_precision: 0.371 roc_auc: 0.506 recall_macro: 0.506 f1_macro: 0.379\n",
      "Running LogisticRegression(C=0.1, class_weight='balanced', max_iter=1000)\n",
      "accuracy: 0.583 average_precision: 0.298 roc_auc: 0.630 recall_macro: 0.590 f1_macro: 0.577\n",
      "=== new best LogisticRegression(C=0.1, class_weight='balanced', max_iter=1000) (using recall_macro):\n",
      "accuracy: 0.583 average_precision: 0.298 roc_auc: 0.630 recall_macro: 0.590 f1_macro: 0.577\n",
      "\n",
      "Running LogisticRegression(class_weight='balanced', max_iter=1000)\n",
      "accuracy: 0.575 average_precision: 0.298 roc_auc: 0.631 recall_macro: 0.590 f1_macro: 0.572\n",
      "\n",
      "Best model:\n",
      "LogisticRegression(C=0.1, class_weight='balanced', max_iter=1000)\n",
      "Best Scores:\n",
      "accuracy: 0.583 average_precision: 0.298 roc_auc: 0.630 recall_macro: 0.590 f1_macro: 0.577\n"
     ]
    },
    {
     "data": {
      "text/plain": [
       "SimpleClassifier(random_state=0)"
      ]
     },
     "execution_count": 167,
     "metadata": {},
     "output_type": "execute_result"
    }
   ],
   "source": [
    "Highways_classification_model.fit(X,y)"
   ]
  },
  {
   "cell_type": "markdown",
   "metadata": {},
   "source": [
    "# Show how well this model does on the Training Set"
   ]
  },
  {
   "cell_type": "code",
   "execution_count": 168,
   "metadata": {},
   "outputs": [],
   "source": [
    "y_predicted = Highways_classification_model.predict(X)"
   ]
  },
  {
   "cell_type": "code",
   "execution_count": 169,
   "metadata": {},
   "outputs": [],
   "source": [
    "a=pd.DataFrame(y_predicted)"
   ]
  },
  {
   "cell_type": "code",
   "execution_count": 170,
   "metadata": {},
   "outputs": [],
   "source": [
    "b=pd.DataFrame(y)"
   ]
  },
  {
   "cell_type": "code",
   "execution_count": 171,
   "metadata": {},
   "outputs": [],
   "source": [
    "c=pd.merge(a,b,left_index=True,right_index=True)"
   ]
  },
  {
   "cell_type": "code",
   "execution_count": 172,
   "metadata": {},
   "outputs": [],
   "source": [
    "c.columns = ['Prediction', 'Actual']"
   ]
  },
  {
   "cell_type": "code",
   "execution_count": 173,
   "metadata": {},
   "outputs": [],
   "source": [
    "c['Matches']=(c['Prediction']==c['Actual'])"
   ]
  },
  {
   "cell_type": "code",
   "execution_count": 174,
   "metadata": {},
   "outputs": [
    {
     "data": {
      "text/html": [
       "<div>\n",
       "<style scoped>\n",
       "    .dataframe tbody tr th:only-of-type {\n",
       "        vertical-align: middle;\n",
       "    }\n",
       "\n",
       "    .dataframe tbody tr th {\n",
       "        vertical-align: top;\n",
       "    }\n",
       "\n",
       "    .dataframe thead th {\n",
       "        text-align: right;\n",
       "    }\n",
       "</style>\n",
       "<table border=\"1\" class=\"dataframe\">\n",
       "  <thead>\n",
       "    <tr style=\"text-align: right;\">\n",
       "      <th></th>\n",
       "      <th>Prediction</th>\n",
       "      <th>Actual</th>\n",
       "      <th>Matches</th>\n",
       "    </tr>\n",
       "  </thead>\n",
       "  <tbody>\n",
       "    <tr>\n",
       "      <th>0</th>\n",
       "      <td>False</td>\n",
       "      <td>True</td>\n",
       "      <td>False</td>\n",
       "    </tr>\n",
       "    <tr>\n",
       "      <th>7303</th>\n",
       "      <td>False</td>\n",
       "      <td>True</td>\n",
       "      <td>False</td>\n",
       "    </tr>\n",
       "    <tr>\n",
       "      <th>3430</th>\n",
       "      <td>True</td>\n",
       "      <td>False</td>\n",
       "      <td>False</td>\n",
       "    </tr>\n",
       "    <tr>\n",
       "      <th>3431</th>\n",
       "      <td>True</td>\n",
       "      <td>False</td>\n",
       "      <td>False</td>\n",
       "    </tr>\n",
       "    <tr>\n",
       "      <th>7301</th>\n",
       "      <td>False</td>\n",
       "      <td>True</td>\n",
       "      <td>False</td>\n",
       "    </tr>\n",
       "    <tr>\n",
       "      <th>...</th>\n",
       "      <td>...</td>\n",
       "      <td>...</td>\n",
       "      <td>...</td>\n",
       "    </tr>\n",
       "    <tr>\n",
       "      <th>3967</th>\n",
       "      <td>True</td>\n",
       "      <td>True</td>\n",
       "      <td>True</td>\n",
       "    </tr>\n",
       "    <tr>\n",
       "      <th>3966</th>\n",
       "      <td>True</td>\n",
       "      <td>True</td>\n",
       "      <td>True</td>\n",
       "    </tr>\n",
       "    <tr>\n",
       "      <th>3965</th>\n",
       "      <td>True</td>\n",
       "      <td>True</td>\n",
       "      <td>True</td>\n",
       "    </tr>\n",
       "    <tr>\n",
       "      <th>3976</th>\n",
       "      <td>True</td>\n",
       "      <td>True</td>\n",
       "      <td>True</td>\n",
       "    </tr>\n",
       "    <tr>\n",
       "      <th>9331</th>\n",
       "      <td>False</td>\n",
       "      <td>False</td>\n",
       "      <td>True</td>\n",
       "    </tr>\n",
       "  </tbody>\n",
       "</table>\n",
       "<p>9332 rows × 3 columns</p>\n",
       "</div>"
      ],
      "text/plain": [
       "     Prediction Actual  Matches\n",
       "0         False   True    False\n",
       "7303      False   True    False\n",
       "3430       True  False    False\n",
       "3431       True  False    False\n",
       "7301      False   True    False\n",
       "...         ...    ...      ...\n",
       "3967       True   True     True\n",
       "3966       True   True     True\n",
       "3965       True   True     True\n",
       "3976       True   True     True\n",
       "9331      False  False     True\n",
       "\n",
       "[9332 rows x 3 columns]"
      ]
     },
     "execution_count": 174,
     "metadata": {},
     "output_type": "execute_result"
    }
   ],
   "source": [
    "c.sort_values(['Matches'])"
   ]
  },
  {
   "cell_type": "markdown",
   "metadata": {},
   "source": [
    "*now use boolean indexing (which looks at values rather than rows/cols) to show which it predicted correctly"
   ]
  },
  {
   "cell_type": "code",
   "execution_count": 175,
   "metadata": {},
   "outputs": [],
   "source": [
    "s=c['Matches']"
   ]
  },
  {
   "cell_type": "code",
   "execution_count": 176,
   "metadata": {},
   "outputs": [
    {
     "data": {
      "text/html": [
       "<div>\n",
       "<style scoped>\n",
       "    .dataframe tbody tr th:only-of-type {\n",
       "        vertical-align: middle;\n",
       "    }\n",
       "\n",
       "    .dataframe tbody tr th {\n",
       "        vertical-align: top;\n",
       "    }\n",
       "\n",
       "    .dataframe thead th {\n",
       "        text-align: right;\n",
       "    }\n",
       "</style>\n",
       "<table border=\"1\" class=\"dataframe\">\n",
       "  <thead>\n",
       "    <tr style=\"text-align: right;\">\n",
       "      <th></th>\n",
       "      <th>Prediction</th>\n",
       "      <th>Actual</th>\n",
       "      <th>Matches</th>\n",
       "    </tr>\n",
       "  </thead>\n",
       "  <tbody>\n",
       "    <tr>\n",
       "      <th>1</th>\n",
       "      <td>False</td>\n",
       "      <td>False</td>\n",
       "      <td>True</td>\n",
       "    </tr>\n",
       "    <tr>\n",
       "      <th>4</th>\n",
       "      <td>False</td>\n",
       "      <td>False</td>\n",
       "      <td>True</td>\n",
       "    </tr>\n",
       "    <tr>\n",
       "      <th>7</th>\n",
       "      <td>False</td>\n",
       "      <td>False</td>\n",
       "      <td>True</td>\n",
       "    </tr>\n",
       "    <tr>\n",
       "      <th>8</th>\n",
       "      <td>False</td>\n",
       "      <td>False</td>\n",
       "      <td>True</td>\n",
       "    </tr>\n",
       "    <tr>\n",
       "      <th>10</th>\n",
       "      <td>False</td>\n",
       "      <td>False</td>\n",
       "      <td>True</td>\n",
       "    </tr>\n",
       "    <tr>\n",
       "      <th>...</th>\n",
       "      <td>...</td>\n",
       "      <td>...</td>\n",
       "      <td>...</td>\n",
       "    </tr>\n",
       "    <tr>\n",
       "      <th>9322</th>\n",
       "      <td>False</td>\n",
       "      <td>False</td>\n",
       "      <td>True</td>\n",
       "    </tr>\n",
       "    <tr>\n",
       "      <th>9323</th>\n",
       "      <td>False</td>\n",
       "      <td>False</td>\n",
       "      <td>True</td>\n",
       "    </tr>\n",
       "    <tr>\n",
       "      <th>9324</th>\n",
       "      <td>False</td>\n",
       "      <td>False</td>\n",
       "      <td>True</td>\n",
       "    </tr>\n",
       "    <tr>\n",
       "      <th>9325</th>\n",
       "      <td>False</td>\n",
       "      <td>False</td>\n",
       "      <td>True</td>\n",
       "    </tr>\n",
       "    <tr>\n",
       "      <th>9331</th>\n",
       "      <td>False</td>\n",
       "      <td>False</td>\n",
       "      <td>True</td>\n",
       "    </tr>\n",
       "  </tbody>\n",
       "</table>\n",
       "<p>5453 rows × 3 columns</p>\n",
       "</div>"
      ],
      "text/plain": [
       "     Prediction Actual  Matches\n",
       "1         False  False     True\n",
       "4         False  False     True\n",
       "7         False  False     True\n",
       "8         False  False     True\n",
       "10        False  False     True\n",
       "...         ...    ...      ...\n",
       "9322      False  False     True\n",
       "9323      False  False     True\n",
       "9324      False  False     True\n",
       "9325      False  False     True\n",
       "9331      False  False     True\n",
       "\n",
       "[5453 rows x 3 columns]"
      ]
     },
     "execution_count": 176,
     "metadata": {},
     "output_type": "execute_result"
    }
   ],
   "source": [
    "c[s]"
   ]
  },
  {
   "cell_type": "markdown",
   "metadata": {},
   "source": [
    "# Make predictions for the run-time set"
   ]
  },
  {
   "cell_type": "markdown",
   "metadata": {},
   "source": [
    "- One extra step before this would be to split out a third set, a test set, after the training set\n",
    "- *need to check that the new dataframe 'Predicted_delays' below has kept consistent indexing up to that point*"
   ]
  },
  {
   "cell_type": "code",
   "execution_count": 177,
   "metadata": {},
   "outputs": [],
   "source": [
    "X=Run_time_set.drop([\"FinishDateVariance\",\"Reasonably_Delayed\"], axis=1)"
   ]
  },
  {
   "cell_type": "code",
   "execution_count": 178,
   "metadata": {},
   "outputs": [
    {
     "data": {
      "text/html": [
       "<div>\n",
       "<style scoped>\n",
       "    .dataframe tbody tr th:only-of-type {\n",
       "        vertical-align: middle;\n",
       "    }\n",
       "\n",
       "    .dataframe tbody tr th {\n",
       "        vertical-align: top;\n",
       "    }\n",
       "\n",
       "    .dataframe thead th {\n",
       "        text-align: right;\n",
       "    }\n",
       "</style>\n",
       "<table border=\"1\" class=\"dataframe\">\n",
       "  <thead>\n",
       "    <tr style=\"text-align: right;\">\n",
       "      <th></th>\n",
       "      <th>Status</th>\n",
       "      <th>ProjectID</th>\n",
       "      <th>ActivityID</th>\n",
       "      <th>LocationCode</th>\n",
       "      <th>Name</th>\n",
       "      <th>BaselineFinishDate</th>\n",
       "      <th>Type</th>\n",
       "      <th>ActivityCode_153a</th>\n",
       "      <th>ActivityCode_153c</th>\n",
       "      <th>ActivityCode_153d</th>\n",
       "      <th>ActivityCode_153e</th>\n",
       "      <th>ActivityCode_153f</th>\n",
       "      <th>ActivityCode_PRLM</th>\n",
       "      <th>ActivityCode_dabl_continuous</th>\n",
       "    </tr>\n",
       "  </thead>\n",
       "  <tbody>\n",
       "    <tr>\n",
       "      <th>0</th>\n",
       "      <td>Not Started</td>\n",
       "      <td>A14-S1-Current-Reporting</td>\n",
       "      <td>1COMM-10100</td>\n",
       "      <td>SEC1</td>\n",
       "      <td>Completion date for Section 1 (IAN 182 -Stage C)</td>\n",
       "      <td>2019-10-17</td>\n",
       "      <td>Finish Milestone</td>\n",
       "      <td>0.0</td>\n",
       "      <td>0.0</td>\n",
       "      <td>0.0</td>\n",
       "      <td>0.0</td>\n",
       "      <td>0.0</td>\n",
       "      <td>0.0</td>\n",
       "      <td>1501.0</td>\n",
       "    </tr>\n",
       "    <tr>\n",
       "      <th>1</th>\n",
       "      <td>Not Started</td>\n",
       "      <td>A14-S1-Current-Reporting</td>\n",
       "      <td>1COMM-11000</td>\n",
       "      <td>SEC1</td>\n",
       "      <td>Start of Variable Mandatory Speed Limits - Man...</td>\n",
       "      <td>2019-02-12</td>\n",
       "      <td>Start Milestone</td>\n",
       "      <td>0.0</td>\n",
       "      <td>0.0</td>\n",
       "      <td>0.0</td>\n",
       "      <td>0.0</td>\n",
       "      <td>0.0</td>\n",
       "      <td>0.0</td>\n",
       "      <td>1507.0</td>\n",
       "    </tr>\n",
       "    <tr>\n",
       "      <th>2</th>\n",
       "      <td>Not Started</td>\n",
       "      <td>A14-S1-Current-Reporting</td>\n",
       "      <td>1COMM-11020</td>\n",
       "      <td>SEC1</td>\n",
       "      <td>MTV Plots</td>\n",
       "      <td>2019-06-12</td>\n",
       "      <td>Task Dependent</td>\n",
       "      <td>0.0</td>\n",
       "      <td>0.0</td>\n",
       "      <td>0.0</td>\n",
       "      <td>0.0</td>\n",
       "      <td>0.0</td>\n",
       "      <td>0.0</td>\n",
       "      <td>1504.0</td>\n",
       "    </tr>\n",
       "    <tr>\n",
       "      <th>3</th>\n",
       "      <td>Not Started</td>\n",
       "      <td>A14-S1-Current-Reporting</td>\n",
       "      <td>1COMM-11030</td>\n",
       "      <td>SEC1</td>\n",
       "      <td>Review MTV Plots</td>\n",
       "      <td>2019-12-13</td>\n",
       "      <td>Task Dependent</td>\n",
       "      <td>0.0</td>\n",
       "      <td>0.0</td>\n",
       "      <td>0.0</td>\n",
       "      <td>0.0</td>\n",
       "      <td>0.0</td>\n",
       "      <td>0.0</td>\n",
       "      <td>1504.0</td>\n",
       "    </tr>\n",
       "    <tr>\n",
       "      <th>4</th>\n",
       "      <td>Not Started</td>\n",
       "      <td>A14-S1-Current-Reporting</td>\n",
       "      <td>1COMM-11040</td>\n",
       "      <td>SEC1</td>\n",
       "      <td>Enable HIOCC: Start of Variable Mandatory Spee...</td>\n",
       "      <td>2019-12-13</td>\n",
       "      <td>WBS Summary</td>\n",
       "      <td>0.0</td>\n",
       "      <td>0.0</td>\n",
       "      <td>0.0</td>\n",
       "      <td>0.0</td>\n",
       "      <td>0.0</td>\n",
       "      <td>0.0</td>\n",
       "      <td>1507.0</td>\n",
       "    </tr>\n",
       "  </tbody>\n",
       "</table>\n",
       "</div>"
      ],
      "text/plain": [
       "        Status                 ProjectID   ActivityID LocationCode  \\\n",
       "0  Not Started  A14-S1-Current-Reporting  1COMM-10100         SEC1   \n",
       "1  Not Started  A14-S1-Current-Reporting  1COMM-11000         SEC1   \n",
       "2  Not Started  A14-S1-Current-Reporting  1COMM-11020         SEC1   \n",
       "3  Not Started  A14-S1-Current-Reporting  1COMM-11030         SEC1   \n",
       "4  Not Started  A14-S1-Current-Reporting  1COMM-11040         SEC1   \n",
       "\n",
       "                                                Name BaselineFinishDate  \\\n",
       "0   Completion date for Section 1 (IAN 182 -Stage C)         2019-10-17   \n",
       "1  Start of Variable Mandatory Speed Limits - Man...         2019-02-12   \n",
       "2                                          MTV Plots         2019-06-12   \n",
       "3                                   Review MTV Plots         2019-12-13   \n",
       "4  Enable HIOCC: Start of Variable Mandatory Spee...         2019-12-13   \n",
       "\n",
       "               Type  ActivityCode_153a  ActivityCode_153c  ActivityCode_153d  \\\n",
       "0  Finish Milestone                0.0                0.0                0.0   \n",
       "1   Start Milestone                0.0                0.0                0.0   \n",
       "2    Task Dependent                0.0                0.0                0.0   \n",
       "3    Task Dependent                0.0                0.0                0.0   \n",
       "4       WBS Summary                0.0                0.0                0.0   \n",
       "\n",
       "   ActivityCode_153e  ActivityCode_153f  ActivityCode_PRLM  \\\n",
       "0                0.0                0.0                0.0   \n",
       "1                0.0                0.0                0.0   \n",
       "2                0.0                0.0                0.0   \n",
       "3                0.0                0.0                0.0   \n",
       "4                0.0                0.0                0.0   \n",
       "\n",
       "   ActivityCode_dabl_continuous  \n",
       "0                        1501.0  \n",
       "1                        1507.0  \n",
       "2                        1504.0  \n",
       "3                        1504.0  \n",
       "4                        1507.0  "
      ]
     },
     "execution_count": 178,
     "metadata": {},
     "output_type": "execute_result"
    }
   ],
   "source": [
    "X.head()"
   ]
  },
  {
   "cell_type": "code",
   "execution_count": 179,
   "metadata": {},
   "outputs": [],
   "source": [
    "y_predicted = Highways_classification_model.predict(X)"
   ]
  },
  {
   "cell_type": "code",
   "execution_count": 180,
   "metadata": {},
   "outputs": [],
   "source": [
    "a=pd.DataFrame(y_predicted,columns=['Reasonably_Delayed_PREDICTION'])"
   ]
  },
  {
   "cell_type": "code",
   "execution_count": 32,
   "metadata": {},
   "outputs": [],
   "source": [
    "#Run_time_set1=Run_time_set.drop(['Baseline Finish Date','FractionDelay','Reasonably_Delayed'],axis=1)"
   ]
  },
  {
   "cell_type": "code",
   "execution_count": 181,
   "metadata": {},
   "outputs": [],
   "source": [
    "Predicted_delays=pd.merge(Run_time_set,a,left_index=True,right_index=True)"
   ]
  },
  {
   "cell_type": "code",
   "execution_count": 182,
   "metadata": {},
   "outputs": [
    {
     "data": {
      "text/html": [
       "<div>\n",
       "<style scoped>\n",
       "    .dataframe tbody tr th:only-of-type {\n",
       "        vertical-align: middle;\n",
       "    }\n",
       "\n",
       "    .dataframe tbody tr th {\n",
       "        vertical-align: top;\n",
       "    }\n",
       "\n",
       "    .dataframe thead th {\n",
       "        text-align: right;\n",
       "    }\n",
       "</style>\n",
       "<table border=\"1\" class=\"dataframe\">\n",
       "  <thead>\n",
       "    <tr style=\"text-align: right;\">\n",
       "      <th></th>\n",
       "      <th>Status</th>\n",
       "      <th>ProjectID</th>\n",
       "      <th>ActivityID</th>\n",
       "      <th>LocationCode</th>\n",
       "      <th>Name</th>\n",
       "      <th>BaselineFinishDate</th>\n",
       "      <th>FinishDateVariance</th>\n",
       "      <th>Type</th>\n",
       "      <th>Reasonably_Delayed</th>\n",
       "      <th>ActivityCode_153a</th>\n",
       "      <th>ActivityCode_153c</th>\n",
       "      <th>ActivityCode_153d</th>\n",
       "      <th>ActivityCode_153e</th>\n",
       "      <th>ActivityCode_153f</th>\n",
       "      <th>ActivityCode_PRLM</th>\n",
       "      <th>ActivityCode_dabl_continuous</th>\n",
       "      <th>Reasonably_Delayed_PREDICTION</th>\n",
       "    </tr>\n",
       "  </thead>\n",
       "  <tbody>\n",
       "    <tr>\n",
       "      <th>0</th>\n",
       "      <td>Not Started</td>\n",
       "      <td>A14-S1-Current-Reporting</td>\n",
       "      <td>1COMM-10100</td>\n",
       "      <td>SEC1</td>\n",
       "      <td>Completion date for Section 1 (IAN 182 -Stage C)</td>\n",
       "      <td>2019-10-17</td>\n",
       "      <td>0.0</td>\n",
       "      <td>Finish Milestone</td>\n",
       "      <td>False</td>\n",
       "      <td>0.0</td>\n",
       "      <td>0.0</td>\n",
       "      <td>0.0</td>\n",
       "      <td>0.0</td>\n",
       "      <td>0.0</td>\n",
       "      <td>0.0</td>\n",
       "      <td>1501.0</td>\n",
       "      <td>False</td>\n",
       "    </tr>\n",
       "    <tr>\n",
       "      <th>1</th>\n",
       "      <td>Not Started</td>\n",
       "      <td>A14-S1-Current-Reporting</td>\n",
       "      <td>1COMM-11000</td>\n",
       "      <td>SEC1</td>\n",
       "      <td>Start of Variable Mandatory Speed Limits - Man...</td>\n",
       "      <td>2019-02-12</td>\n",
       "      <td>0.0</td>\n",
       "      <td>Start Milestone</td>\n",
       "      <td>False</td>\n",
       "      <td>0.0</td>\n",
       "      <td>0.0</td>\n",
       "      <td>0.0</td>\n",
       "      <td>0.0</td>\n",
       "      <td>0.0</td>\n",
       "      <td>0.0</td>\n",
       "      <td>1507.0</td>\n",
       "      <td>False</td>\n",
       "    </tr>\n",
       "    <tr>\n",
       "      <th>2</th>\n",
       "      <td>Not Started</td>\n",
       "      <td>A14-S1-Current-Reporting</td>\n",
       "      <td>1COMM-11020</td>\n",
       "      <td>SEC1</td>\n",
       "      <td>MTV Plots</td>\n",
       "      <td>2019-06-12</td>\n",
       "      <td>0.0</td>\n",
       "      <td>Task Dependent</td>\n",
       "      <td>False</td>\n",
       "      <td>0.0</td>\n",
       "      <td>0.0</td>\n",
       "      <td>0.0</td>\n",
       "      <td>0.0</td>\n",
       "      <td>0.0</td>\n",
       "      <td>0.0</td>\n",
       "      <td>1504.0</td>\n",
       "      <td>False</td>\n",
       "    </tr>\n",
       "    <tr>\n",
       "      <th>3</th>\n",
       "      <td>Not Started</td>\n",
       "      <td>A14-S1-Current-Reporting</td>\n",
       "      <td>1COMM-11030</td>\n",
       "      <td>SEC1</td>\n",
       "      <td>Review MTV Plots</td>\n",
       "      <td>2019-12-13</td>\n",
       "      <td>0.0</td>\n",
       "      <td>Task Dependent</td>\n",
       "      <td>False</td>\n",
       "      <td>0.0</td>\n",
       "      <td>0.0</td>\n",
       "      <td>0.0</td>\n",
       "      <td>0.0</td>\n",
       "      <td>0.0</td>\n",
       "      <td>0.0</td>\n",
       "      <td>1504.0</td>\n",
       "      <td>False</td>\n",
       "    </tr>\n",
       "    <tr>\n",
       "      <th>4</th>\n",
       "      <td>Not Started</td>\n",
       "      <td>A14-S1-Current-Reporting</td>\n",
       "      <td>1COMM-11040</td>\n",
       "      <td>SEC1</td>\n",
       "      <td>Enable HIOCC: Start of Variable Mandatory Spee...</td>\n",
       "      <td>2019-12-13</td>\n",
       "      <td>0.0</td>\n",
       "      <td>WBS Summary</td>\n",
       "      <td>False</td>\n",
       "      <td>0.0</td>\n",
       "      <td>0.0</td>\n",
       "      <td>0.0</td>\n",
       "      <td>0.0</td>\n",
       "      <td>0.0</td>\n",
       "      <td>0.0</td>\n",
       "      <td>1507.0</td>\n",
       "      <td>False</td>\n",
       "    </tr>\n",
       "    <tr>\n",
       "      <th>...</th>\n",
       "      <td>...</td>\n",
       "      <td>...</td>\n",
       "      <td>...</td>\n",
       "      <td>...</td>\n",
       "      <td>...</td>\n",
       "      <td>...</td>\n",
       "      <td>...</td>\n",
       "      <td>...</td>\n",
       "      <td>...</td>\n",
       "      <td>...</td>\n",
       "      <td>...</td>\n",
       "      <td>...</td>\n",
       "      <td>...</td>\n",
       "      <td>...</td>\n",
       "      <td>...</td>\n",
       "      <td>...</td>\n",
       "      <td>...</td>\n",
       "    </tr>\n",
       "    <tr>\n",
       "      <th>2457</th>\n",
       "      <td>Not Started</td>\n",
       "      <td>A14-S6-Current-Reporting</td>\n",
       "      <td>6VM-1560</td>\n",
       "      <td>SEC6</td>\n",
       "      <td>VM61 - Site Works</td>\n",
       "      <td>2020-10-19</td>\n",
       "      <td>0.0</td>\n",
       "      <td>Task Dependent</td>\n",
       "      <td>False</td>\n",
       "      <td>0.0</td>\n",
       "      <td>0.0</td>\n",
       "      <td>0.0</td>\n",
       "      <td>0.0</td>\n",
       "      <td>0.0</td>\n",
       "      <td>0.0</td>\n",
       "      <td>2702.0</td>\n",
       "      <td>False</td>\n",
       "    </tr>\n",
       "    <tr>\n",
       "      <th>2458</th>\n",
       "      <td>Not Started</td>\n",
       "      <td>A14-S6-Current-Reporting</td>\n",
       "      <td>6VM-1590</td>\n",
       "      <td>SEC6</td>\n",
       "      <td>VM64 - Site Works</td>\n",
       "      <td>2021-04-20</td>\n",
       "      <td>0.0</td>\n",
       "      <td>Task Dependent</td>\n",
       "      <td>False</td>\n",
       "      <td>0.0</td>\n",
       "      <td>0.0</td>\n",
       "      <td>0.0</td>\n",
       "      <td>0.0</td>\n",
       "      <td>0.0</td>\n",
       "      <td>0.0</td>\n",
       "      <td>2702.0</td>\n",
       "      <td>False</td>\n",
       "    </tr>\n",
       "    <tr>\n",
       "      <th>2459</th>\n",
       "      <td>Not Started</td>\n",
       "      <td>A14-S6-Current-Reporting</td>\n",
       "      <td>6VM-1620</td>\n",
       "      <td>SEC6</td>\n",
       "      <td>VM63 - Site Works (Spare Duct)</td>\n",
       "      <td>2019-06-12</td>\n",
       "      <td>0.0</td>\n",
       "      <td>Task Dependent</td>\n",
       "      <td>False</td>\n",
       "      <td>0.0</td>\n",
       "      <td>0.0</td>\n",
       "      <td>0.0</td>\n",
       "      <td>0.0</td>\n",
       "      <td>0.0</td>\n",
       "      <td>0.0</td>\n",
       "      <td>2702.0</td>\n",
       "      <td>False</td>\n",
       "    </tr>\n",
       "    <tr>\n",
       "      <th>2460</th>\n",
       "      <td>Not Started</td>\n",
       "      <td>A14-S6-Current-Reporting</td>\n",
       "      <td>6VM-1800</td>\n",
       "      <td>SEC6</td>\n",
       "      <td>VM69 - Site Works</td>\n",
       "      <td>2020-01-31</td>\n",
       "      <td>0.0</td>\n",
       "      <td>Task Dependent</td>\n",
       "      <td>False</td>\n",
       "      <td>0.0</td>\n",
       "      <td>0.0</td>\n",
       "      <td>0.0</td>\n",
       "      <td>0.0</td>\n",
       "      <td>0.0</td>\n",
       "      <td>0.0</td>\n",
       "      <td>2702.0</td>\n",
       "      <td>False</td>\n",
       "    </tr>\n",
       "    <tr>\n",
       "      <th>2461</th>\n",
       "      <td>Not Started</td>\n",
       "      <td>A14-S6-Current-Reporting</td>\n",
       "      <td>6VM-1820</td>\n",
       "      <td>SEC6</td>\n",
       "      <td>VM63a - Site Works</td>\n",
       "      <td>2020-09-01</td>\n",
       "      <td>0.0</td>\n",
       "      <td>Task Dependent</td>\n",
       "      <td>False</td>\n",
       "      <td>0.0</td>\n",
       "      <td>0.0</td>\n",
       "      <td>0.0</td>\n",
       "      <td>0.0</td>\n",
       "      <td>0.0</td>\n",
       "      <td>0.0</td>\n",
       "      <td>2702.0</td>\n",
       "      <td>False</td>\n",
       "    </tr>\n",
       "  </tbody>\n",
       "</table>\n",
       "<p>2462 rows × 17 columns</p>\n",
       "</div>"
      ],
      "text/plain": [
       "           Status                 ProjectID   ActivityID LocationCode  \\\n",
       "0     Not Started  A14-S1-Current-Reporting  1COMM-10100         SEC1   \n",
       "1     Not Started  A14-S1-Current-Reporting  1COMM-11000         SEC1   \n",
       "2     Not Started  A14-S1-Current-Reporting  1COMM-11020         SEC1   \n",
       "3     Not Started  A14-S1-Current-Reporting  1COMM-11030         SEC1   \n",
       "4     Not Started  A14-S1-Current-Reporting  1COMM-11040         SEC1   \n",
       "...           ...                       ...          ...          ...   \n",
       "2457  Not Started  A14-S6-Current-Reporting     6VM-1560         SEC6   \n",
       "2458  Not Started  A14-S6-Current-Reporting     6VM-1590         SEC6   \n",
       "2459  Not Started  A14-S6-Current-Reporting     6VM-1620         SEC6   \n",
       "2460  Not Started  A14-S6-Current-Reporting     6VM-1800         SEC6   \n",
       "2461  Not Started  A14-S6-Current-Reporting     6VM-1820         SEC6   \n",
       "\n",
       "                                                   Name BaselineFinishDate  \\\n",
       "0      Completion date for Section 1 (IAN 182 -Stage C)         2019-10-17   \n",
       "1     Start of Variable Mandatory Speed Limits - Man...         2019-02-12   \n",
       "2                                             MTV Plots         2019-06-12   \n",
       "3                                      Review MTV Plots         2019-12-13   \n",
       "4     Enable HIOCC: Start of Variable Mandatory Spee...         2019-12-13   \n",
       "...                                                 ...                ...   \n",
       "2457                                  VM61 - Site Works         2020-10-19   \n",
       "2458                                  VM64 - Site Works         2021-04-20   \n",
       "2459                     VM63 - Site Works (Spare Duct)         2019-06-12   \n",
       "2460                                  VM69 - Site Works         2020-01-31   \n",
       "2461                                 VM63a - Site Works         2020-09-01   \n",
       "\n",
       "      FinishDateVariance              Type Reasonably_Delayed  \\\n",
       "0                    0.0  Finish Milestone              False   \n",
       "1                    0.0   Start Milestone              False   \n",
       "2                    0.0    Task Dependent              False   \n",
       "3                    0.0    Task Dependent              False   \n",
       "4                    0.0       WBS Summary              False   \n",
       "...                  ...               ...                ...   \n",
       "2457                 0.0    Task Dependent              False   \n",
       "2458                 0.0    Task Dependent              False   \n",
       "2459                 0.0    Task Dependent              False   \n",
       "2460                 0.0    Task Dependent              False   \n",
       "2461                 0.0    Task Dependent              False   \n",
       "\n",
       "      ActivityCode_153a  ActivityCode_153c  ActivityCode_153d  \\\n",
       "0                   0.0                0.0                0.0   \n",
       "1                   0.0                0.0                0.0   \n",
       "2                   0.0                0.0                0.0   \n",
       "3                   0.0                0.0                0.0   \n",
       "4                   0.0                0.0                0.0   \n",
       "...                 ...                ...                ...   \n",
       "2457                0.0                0.0                0.0   \n",
       "2458                0.0                0.0                0.0   \n",
       "2459                0.0                0.0                0.0   \n",
       "2460                0.0                0.0                0.0   \n",
       "2461                0.0                0.0                0.0   \n",
       "\n",
       "      ActivityCode_153e  ActivityCode_153f  ActivityCode_PRLM  \\\n",
       "0                   0.0                0.0                0.0   \n",
       "1                   0.0                0.0                0.0   \n",
       "2                   0.0                0.0                0.0   \n",
       "3                   0.0                0.0                0.0   \n",
       "4                   0.0                0.0                0.0   \n",
       "...                 ...                ...                ...   \n",
       "2457                0.0                0.0                0.0   \n",
       "2458                0.0                0.0                0.0   \n",
       "2459                0.0                0.0                0.0   \n",
       "2460                0.0                0.0                0.0   \n",
       "2461                0.0                0.0                0.0   \n",
       "\n",
       "      ActivityCode_dabl_continuous Reasonably_Delayed_PREDICTION  \n",
       "0                           1501.0                         False  \n",
       "1                           1507.0                         False  \n",
       "2                           1504.0                         False  \n",
       "3                           1504.0                         False  \n",
       "4                           1507.0                         False  \n",
       "...                            ...                           ...  \n",
       "2457                        2702.0                         False  \n",
       "2458                        2702.0                         False  \n",
       "2459                        2702.0                         False  \n",
       "2460                        2702.0                         False  \n",
       "2461                        2702.0                         False  \n",
       "\n",
       "[2462 rows x 17 columns]"
      ]
     },
     "execution_count": 182,
     "metadata": {},
     "output_type": "execute_result"
    }
   ],
   "source": [
    "Predicted_delays"
   ]
  },
  {
   "cell_type": "markdown",
   "metadata": {},
   "source": [
    "# Train a Regression model"
   ]
  },
  {
   "cell_type": "code",
   "execution_count": 184,
   "metadata": {},
   "outputs": [],
   "source": [
    "Highways_regression_model=dabl.SimpleRegressor(random_state=0)"
   ]
  },
  {
   "cell_type": "code",
   "execution_count": 185,
   "metadata": {},
   "outputs": [],
   "source": [
    "X=Training_set.drop([\"Reasonably_Delayed\",'FinishDateVariance'], axis=1) "
   ]
  },
  {
   "cell_type": "code",
   "execution_count": 186,
   "metadata": {},
   "outputs": [],
   "source": [
    "y=Training_set['FinishDateVariance']"
   ]
  },
  {
   "cell_type": "code",
   "execution_count": 187,
   "metadata": {},
   "outputs": [
    {
     "name": "stderr",
     "output_type": "stream",
     "text": [
      "/Users/lawrence/DABL_Env/lib/python3.7/site-packages/dabl/preprocessing.py:318: UserWarning: Discarding near-constant features: ['Status', 'ActivityCode_153a', 'ActivityCode_153c', 'ActivityCode_153d', 'ActivityCode_153e', 'ActivityCode_153f', 'ActivityCode_PRLM']\n",
      "  near_constant.index[near_constant].tolist()))\n"
     ]
    },
    {
     "name": "stdout",
     "output_type": "stream",
     "text": [
      "Running DummyRegressor()\n",
      "r2: -0.001 neg_mean_squared_error: -170888.704\n",
      "=== new best DummyRegressor() (using r2):\n",
      "r2: -0.001 neg_mean_squared_error: -170888.704\n",
      "\n",
      "Running DecisionTreeRegressor(max_depth=1)\n",
      "r2: -0.003 neg_mean_squared_error: -170596.113\n",
      "Running DecisionTreeRegressor(max_depth=5)\n",
      "r2: 0.112 neg_mean_squared_error: -149961.991\n",
      "=== new best DecisionTreeRegressor(max_depth=5) (using r2):\n",
      "r2: 0.112 neg_mean_squared_error: -149961.991\n",
      "\n",
      "Running Ridge(alpha=10)\n",
      "r2: 0.039 neg_mean_squared_error: -163171.299\n",
      "Running Lasso(alpha=10)\n",
      "r2: 0.013 neg_mean_squared_error: -168739.500\n",
      "\n",
      "Best model:\n",
      "DecisionTreeRegressor(max_depth=5)\n",
      "Best Scores:\n",
      "r2: 0.112 neg_mean_squared_error: -149961.991\n"
     ]
    },
    {
     "data": {
      "text/plain": [
       "SimpleRegressor(random_state=0)"
      ]
     },
     "execution_count": 187,
     "metadata": {},
     "output_type": "execute_result"
    }
   ],
   "source": [
    "Highways_regression_model.fit(X,y)"
   ]
  },
  {
   "cell_type": "markdown",
   "metadata": {},
   "source": [
    "# Show how well this model does on the Training Set"
   ]
  },
  {
   "cell_type": "code",
   "execution_count": 188,
   "metadata": {},
   "outputs": [],
   "source": [
    "y_predicted = Highways_regression_model.predict(X)"
   ]
  },
  {
   "cell_type": "code",
   "execution_count": 192,
   "metadata": {},
   "outputs": [],
   "source": [
    "a=pd.DataFrame(y_predicted,columns=['PredictedVariance'])"
   ]
  },
  {
   "cell_type": "code",
   "execution_count": 193,
   "metadata": {},
   "outputs": [],
   "source": [
    "b=pd.DataFrame(Training_set['FinishDateVariance'])"
   ]
  },
  {
   "cell_type": "code",
   "execution_count": 194,
   "metadata": {},
   "outputs": [],
   "source": [
    "c=pd.merge(a,b,left_index=True,right_index=True)"
   ]
  },
  {
   "cell_type": "code",
   "execution_count": 195,
   "metadata": {},
   "outputs": [
    {
     "data": {
      "text/html": [
       "<div>\n",
       "<style scoped>\n",
       "    .dataframe tbody tr th:only-of-type {\n",
       "        vertical-align: middle;\n",
       "    }\n",
       "\n",
       "    .dataframe tbody tr th {\n",
       "        vertical-align: top;\n",
       "    }\n",
       "\n",
       "    .dataframe thead th {\n",
       "        text-align: right;\n",
       "    }\n",
       "</style>\n",
       "<table border=\"1\" class=\"dataframe\">\n",
       "  <thead>\n",
       "    <tr style=\"text-align: right;\">\n",
       "      <th></th>\n",
       "      <th>PredictedVariance</th>\n",
       "      <th>FinishDateVariance</th>\n",
       "    </tr>\n",
       "  </thead>\n",
       "  <tbody>\n",
       "    <tr>\n",
       "      <th>0</th>\n",
       "      <td>20.933333</td>\n",
       "      <td>240.0</td>\n",
       "    </tr>\n",
       "    <tr>\n",
       "      <th>1</th>\n",
       "      <td>37.771835</td>\n",
       "      <td>-56.0</td>\n",
       "    </tr>\n",
       "    <tr>\n",
       "      <th>2</th>\n",
       "      <td>37.771835</td>\n",
       "      <td>8.0</td>\n",
       "    </tr>\n",
       "    <tr>\n",
       "      <th>3</th>\n",
       "      <td>37.771835</td>\n",
       "      <td>8.0</td>\n",
       "    </tr>\n",
       "    <tr>\n",
       "      <th>4</th>\n",
       "      <td>37.771835</td>\n",
       "      <td>-120.0</td>\n",
       "    </tr>\n",
       "    <tr>\n",
       "      <th>...</th>\n",
       "      <td>...</td>\n",
       "      <td>...</td>\n",
       "    </tr>\n",
       "    <tr>\n",
       "      <th>9327</th>\n",
       "      <td>37.771835</td>\n",
       "      <td>16.0</td>\n",
       "    </tr>\n",
       "    <tr>\n",
       "      <th>9328</th>\n",
       "      <td>37.771835</td>\n",
       "      <td>16.0</td>\n",
       "    </tr>\n",
       "    <tr>\n",
       "      <th>9329</th>\n",
       "      <td>20.933333</td>\n",
       "      <td>168.0</td>\n",
       "    </tr>\n",
       "    <tr>\n",
       "      <th>9330</th>\n",
       "      <td>20.933333</td>\n",
       "      <td>208.0</td>\n",
       "    </tr>\n",
       "    <tr>\n",
       "      <th>9331</th>\n",
       "      <td>20.933333</td>\n",
       "      <td>0.0</td>\n",
       "    </tr>\n",
       "  </tbody>\n",
       "</table>\n",
       "<p>9332 rows × 2 columns</p>\n",
       "</div>"
      ],
      "text/plain": [
       "      PredictedVariance  FinishDateVariance\n",
       "0             20.933333               240.0\n",
       "1             37.771835               -56.0\n",
       "2             37.771835                 8.0\n",
       "3             37.771835                 8.0\n",
       "4             37.771835              -120.0\n",
       "...                 ...                 ...\n",
       "9327          37.771835                16.0\n",
       "9328          37.771835                16.0\n",
       "9329          20.933333               168.0\n",
       "9330          20.933333               208.0\n",
       "9331          20.933333                 0.0\n",
       "\n",
       "[9332 rows x 2 columns]"
      ]
     },
     "execution_count": 195,
     "metadata": {},
     "output_type": "execute_result"
    }
   ],
   "source": [
    "c"
   ]
  },
  {
   "cell_type": "code",
   "execution_count": 196,
   "metadata": {},
   "outputs": [
    {
     "data": {
      "image/png": "[encoded data removed]",
      "text/plain": [
       "<Figure size 432x288 with 1 Axes>"
      ]
     },
     "metadata": {
      "needs_background": "light"
     },
     "output_type": "display_data"
    }
   ],
   "source": [
    "import matplotlib.pyplot as plt\n",
    "\n",
    "plt.scatter(c['FinishDateVariance'],c['PredictedVariance'])\n",
    "plt.plot(c['FinishDateVariance'],c['FinishDateVariance'])\n",
    "plt.show()"
   ]
  },
  {
   "cell_type": "code",
   "execution_count": 197,
   "metadata": {},
   "outputs": [
    {
     "data": {
      "image/png": "[encoded data removed]",
      "text/plain": [
       "<Figure size 432x288 with 1 Axes>"
      ]
     },
     "metadata": {
      "needs_background": "light"
     },
     "output_type": "display_data"
    }
   ],
   "source": [
    "plt.scatter(c['FinishDateVariance'],c['PredictedVariance']/c['FinishDateVariance'])\n",
    "plt.show()"
   ]
  },
  {
   "cell_type": "markdown",
   "metadata": {},
   "source": [
    "# Make predictions for the run-time set"
   ]
  },
  {
   "cell_type": "code",
   "execution_count": 198,
   "metadata": {},
   "outputs": [],
   "source": [
    "X=Run_time_set.drop([\"Reasonably_Delayed\",'FinishDateVariance'], axis=1)"
   ]
  },
  {
   "cell_type": "code",
   "execution_count": 199,
   "metadata": {},
   "outputs": [],
   "source": [
    "y_predicted = Highways_regression_model.predict(X)"
   ]
  },
  {
   "cell_type": "code",
   "execution_count": 48,
   "metadata": {},
   "outputs": [],
   "source": [
    "# compared with ..."
   ]
  },
  {
   "cell_type": "code",
   "execution_count": 200,
   "metadata": {},
   "outputs": [],
   "source": [
    "a=pd.DataFrame(y_predicted,columns=['Predicted Variance'])"
   ]
  },
  {
   "cell_type": "code",
   "execution_count": 201,
   "metadata": {},
   "outputs": [],
   "source": [
    "b=pd.DataFrame(Run_time_set['FinishDateVariance'])"
   ]
  },
  {
   "cell_type": "code",
   "execution_count": 202,
   "metadata": {},
   "outputs": [],
   "source": [
    "c=pd.merge(a,b,left_index=True,right_index=True)"
   ]
  },
  {
   "cell_type": "code",
   "execution_count": 203,
   "metadata": {},
   "outputs": [
    {
     "data": {
      "text/html": [
       "<div>\n",
       "<style scoped>\n",
       "    .dataframe tbody tr th:only-of-type {\n",
       "        vertical-align: middle;\n",
       "    }\n",
       "\n",
       "    .dataframe tbody tr th {\n",
       "        vertical-align: top;\n",
       "    }\n",
       "\n",
       "    .dataframe thead th {\n",
       "        text-align: right;\n",
       "    }\n",
       "</style>\n",
       "<table border=\"1\" class=\"dataframe\">\n",
       "  <thead>\n",
       "    <tr style=\"text-align: right;\">\n",
       "      <th></th>\n",
       "      <th>Predicted Variance</th>\n",
       "      <th>FinishDateVariance</th>\n",
       "    </tr>\n",
       "  </thead>\n",
       "  <tbody>\n",
       "    <tr>\n",
       "      <th>0</th>\n",
       "      <td>55.945578</td>\n",
       "      <td>0.0</td>\n",
       "    </tr>\n",
       "    <tr>\n",
       "      <th>1</th>\n",
       "      <td>37.771835</td>\n",
       "      <td>0.0</td>\n",
       "    </tr>\n",
       "    <tr>\n",
       "      <th>2</th>\n",
       "      <td>37.771835</td>\n",
       "      <td>0.0</td>\n",
       "    </tr>\n",
       "    <tr>\n",
       "      <th>3</th>\n",
       "      <td>37.771835</td>\n",
       "      <td>0.0</td>\n",
       "    </tr>\n",
       "    <tr>\n",
       "      <th>4</th>\n",
       "      <td>37.771835</td>\n",
       "      <td>0.0</td>\n",
       "    </tr>\n",
       "    <tr>\n",
       "      <th>...</th>\n",
       "      <td>...</td>\n",
       "      <td>...</td>\n",
       "    </tr>\n",
       "    <tr>\n",
       "      <th>2457</th>\n",
       "      <td>20.933333</td>\n",
       "      <td>0.0</td>\n",
       "    </tr>\n",
       "    <tr>\n",
       "      <th>2458</th>\n",
       "      <td>20.933333</td>\n",
       "      <td>0.0</td>\n",
       "    </tr>\n",
       "    <tr>\n",
       "      <th>2459</th>\n",
       "      <td>20.933333</td>\n",
       "      <td>0.0</td>\n",
       "    </tr>\n",
       "    <tr>\n",
       "      <th>2460</th>\n",
       "      <td>20.933333</td>\n",
       "      <td>0.0</td>\n",
       "    </tr>\n",
       "    <tr>\n",
       "      <th>2461</th>\n",
       "      <td>20.933333</td>\n",
       "      <td>0.0</td>\n",
       "    </tr>\n",
       "  </tbody>\n",
       "</table>\n",
       "<p>2462 rows × 2 columns</p>\n",
       "</div>"
      ],
      "text/plain": [
       "      Predicted Variance  FinishDateVariance\n",
       "0              55.945578                 0.0\n",
       "1              37.771835                 0.0\n",
       "2              37.771835                 0.0\n",
       "3              37.771835                 0.0\n",
       "4              37.771835                 0.0\n",
       "...                  ...                 ...\n",
       "2457           20.933333                 0.0\n",
       "2458           20.933333                 0.0\n",
       "2459           20.933333                 0.0\n",
       "2460           20.933333                 0.0\n",
       "2461           20.933333                 0.0\n",
       "\n",
       "[2462 rows x 2 columns]"
      ]
     },
     "execution_count": 203,
     "metadata": {},
     "output_type": "execute_result"
    }
   ],
   "source": [
    "c"
   ]
  },
  {
   "cell_type": "code",
   "execution_count": 204,
   "metadata": {},
   "outputs": [
    {
     "data": {
      "image/png": "[encoded data removed]",
      "text/plain": [
       "<Figure size 432x288 with 1 Axes>"
      ]
     },
     "metadata": {
      "needs_background": "light"
     },
     "output_type": "display_data"
    }
   ],
   "source": [
    "plt.scatter(c['FinishDateVariance'],c['Predicted Variance'])\n",
    "plt.plot(c['FinishDateVariance'],c['FinishDateVariance'])\n",
    "plt.show()"
   ]
  },
  {
   "cell_type": "code",
   "execution_count": 206,
   "metadata": {},
   "outputs": [
    {
     "data": {
      "image/png": "[encoded data removed]",
      "text/plain": [
       "<Figure size 432x288 with 1 Axes>"
      ]
     },
     "metadata": {
      "needs_background": "light"
     },
     "output_type": "display_data"
    }
   ],
   "source": [
    "plt.scatter(c['FinishDateVariance'],c['Predicted Variance']/c['FinishDateVariance'])\n",
    "plt.show()"
   ]
  },
  {
   "cell_type": "code",
   "execution_count": null,
   "metadata": {},
   "outputs": [],
   "source": []
  }
 ],
 "metadata": {
  "kernelspec": {
   "display_name": "Python 3",
   "language": "python",
   "name": "python3"
  },
  "language_info": {
   "codemirror_mode": {
    "name": "ipython",
    "version": 3
   },
   "file_extension": ".py",
   "mimetype": "text/x-python",
   "name": "python",
   "nbconvert_exporter": "python",
   "pygments_lexer": "ipython3",
   "version": "3.7.4"
  }
 },
 "nbformat": 4,
 "nbformat_minor": 4
}
